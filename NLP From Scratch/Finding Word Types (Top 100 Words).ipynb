{
 "cells": [
  {
   "cell_type": "code",
   "execution_count": 180,
   "metadata": {},
   "outputs": [],
   "source": [
    "class Word:\n",
    "    def __init__(self, word, Type):\n",
    "        self.word = word\n",
    "        self.Type = Type\n",
    "    def CreateWords(words):\n",
    "        import pandas as pd\n",
    "        df = pd.read_excel('Basic English.xlsx') \n",
    "        for i in range(0,len(df['Word'])):\n",
    "            words.append(Word(df['Word'][i],df['Type'][i]))\n",
    "    def TypeOfWords(Input):\n",
    "        for i in range(0,len(words)):\n",
    "            if (words[i].word).lower() in Input.lower():\n",
    "                for y in range(0,len(Input.split())):\n",
    "                    if words[i].word == Input.split()[y]:\n",
    "                        print(\"Word number\",str(y+1)+', \"'+words[i].word.capitalize()+'\" is a',words[i].Type)\n",
    "        "
   ]
  },
  {
   "cell_type": "code",
   "execution_count": 181,
   "metadata": {},
   "outputs": [
    {
     "name": "stdout",
     "output_type": "stream",
     "text": [
      "Verb\n"
     ]
    }
   ],
   "source": [
    "words=[]\n",
    "Word.CreateWords(words)\n",
    "print(words[1].Type)"
   ]
  },
  {
   "cell_type": "code",
   "execution_count": 182,
   "metadata": {
    "scrolled": true
   },
   "outputs": [
    {
     "name": "stdout",
     "output_type": "stream",
     "text": [
      "Please put in your sentance: your not smart\n",
      "Word number 2, \"Not\" is a Adverb et al.\n",
      "Word number 1, \"Your\" is a Possessive pronoun\n"
     ]
    }
   ],
   "source": [
    "Word.TypeOfWords(input(\"Please put in your sentance: \"))"
   ]
  },
  {
   "cell_type": "code",
   "execution_count": null,
   "metadata": {},
   "outputs": [],
   "source": []
  }
 ],
 "metadata": {
  "kernelspec": {
   "display_name": "Python 3",
   "language": "python",
   "name": "python3"
  },
  "language_info": {
   "codemirror_mode": {
    "name": "ipython",
    "version": 3
   },
   "file_extension": ".py",
   "mimetype": "text/x-python",
   "name": "python",
   "nbconvert_exporter": "python",
   "pygments_lexer": "ipython3",
   "version": "3.6.8"
  }
 },
 "nbformat": 4,
 "nbformat_minor": 2
}
