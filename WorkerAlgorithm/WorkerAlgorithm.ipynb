{
 "cells": [
  {
   "cell_type": "code",
   "execution_count": 1,
   "metadata": {},
   "outputs": [],
   "source": [
    "#This file imports pandas to read the exel document (cell 2)\n",
    "#In cell 3 pandas reads the document \"workers.xlsx\", and prints the data\n",
    "#In cell 4 the code prints the length of the exel document\n",
    "#In cell 5 the code prints all the names in the exel document\n",
    "#In cell 6 we define a new class called \"Person\" this class creates the objects, Name, WorkExperince, Jobs, SalPerYear\n",
    "#In cell 7 using the dummie varible y the code puts all the data onto one list\n",
    "#In cell 8 we quickly print a little statement that puts all the data to work (this was mostly a test)\n",
    "#In cell 9 all the data is put into their own seperate lists\n",
    "#In cell 10 the data is printed to test if it works\n",
    "#In cell 11 the Algorithm is created the algorithm works by subtracting previous jobs, then adding work exeprance, \n",
    "#finaly the saleray the person wants is subtracted. All the numbers are turned positve using the absolute value function\n",
    "#The data is printed, at this point it is still unorganized. A new varible is created for the next cell (the varible \n",
    "#is called scoreName) The varible has the score and name\n",
    "#In cell 12 everything is sorted, it sorted by crosschecking the fully sorted score varible and the scores in scoreName\n",
    "#Finaly it organizes and prints the scores in order to show which person to hire.\n"
   ]
  },
  {
   "cell_type": "code",
   "execution_count": 2,
   "metadata": {},
   "outputs": [],
   "source": [
    "import pandas as pd"
   ]
  },
  {
   "cell_type": "code",
   "execution_count": 3,
   "metadata": {},
   "outputs": [
    {
     "name": "stdout",
     "output_type": "stream",
     "text": [
      "     Name  WorkExperience(Years)  Jobs  SalPerYear\n",
      "0     Bob                     12     3          40\n",
      "1    Jose                     15     5          20\n",
      "2    Will                     41     2          30\n",
      "3    Mike                     22    10         100\n",
      "4   Smith                     32    20          40\n",
      "5  Edward                     12     3          30\n"
     ]
    }
   ],
   "source": [
    "df = pd.read_excel (r'workers.xlsx') \n",
    "print (df)"
   ]
  },
  {
   "cell_type": "code",
   "execution_count": 4,
   "metadata": {},
   "outputs": [
    {
     "name": "stdout",
     "output_type": "stream",
     "text": [
      "RangeIndex(start=0, stop=6, step=1)\n"
     ]
    }
   ],
   "source": [
    "print(df.index)"
   ]
  },
  {
   "cell_type": "code",
   "execution_count": 5,
   "metadata": {},
   "outputs": [
    {
     "name": "stdout",
     "output_type": "stream",
     "text": [
      "Bob\n",
      "Jose\n",
      "Will\n",
      "Mike\n",
      "Smith\n",
      "Edward\n"
     ]
    }
   ],
   "source": [
    "for i in df.index:\n",
    "    print(df['Name'][i])\n"
   ]
  },
  {
   "cell_type": "code",
   "execution_count": 6,
   "metadata": {},
   "outputs": [],
   "source": [
    "class Person:\n",
    "    def __init__(self, Name, WorkExperience, Jobs,SalPerYear):\n",
    "            self.Name = Name\n",
    "            self.WorkExperience = WorkExperience\n",
    "            self.Jobs = Jobs\n",
    "            self.SalPerYear = SalPerYear"
   ]
  },
  {
   "cell_type": "code",
   "execution_count": 7,
   "metadata": {},
   "outputs": [
    {
     "name": "stdout",
     "output_type": "stream",
     "text": [
      "['Bob', 12, 3, 40, 'Jose', 15, 5, 20, 'Will', 41, 2, 30, 'Mike', 22, 10, 100, 'Smith', 32, 20, 40, 'Edward', 12, 3, 30]\n"
     ]
    }
   ],
   "source": [
    "y = []\n",
    "for i in df.index:\n",
    "    i = Person(df['Name'][i],df['WorkExperience(Years)'][i],df['Jobs'][i],df[\"SalPerYear\"][i])\n",
    "    y.append(i.Name)\n",
    "    y.append(i.WorkExperience)\n",
    "    y.append(i.Jobs)\n",
    "    y.append(i.SalPerYear)\n",
    "print(y)"
   ]
  },
  {
   "cell_type": "code",
   "execution_count": 8,
   "metadata": {
    "scrolled": true
   },
   "outputs": [
    {
     "name": "stdout",
     "output_type": "stream",
     "text": [
      "Bob has worked for 12 years and has had 3 jobs. They want 40 000 dollars per year\n",
      "Jose has worked for 15 years and has had 5 jobs. They want 20 000 dollars per year\n",
      "Will has worked for 41 years and has had 2 jobs. They want 30 000 dollars per year\n",
      "Mike has worked for 22 years and has had 10 jobs. They want 100 000 dollars per year\n",
      "Smith has worked for 32 years and has had 20 jobs. They want 40 000 dollars per year\n",
      "Edward has worked for 12 years and has had 3 jobs. They want 30 000 dollars per year\n"
     ]
    }
   ],
   "source": [
    "for i in range(0,len(y)):\n",
    "    if i % 4== 0:\n",
    "        print(y[i],\"has worked for\",y[i+1],\"years and has had\",y[i+2],\"jobs. They want\", (y[i+3]),\"000 dollars per year\")"
   ]
  },
  {
   "cell_type": "code",
   "execution_count": 9,
   "metadata": {},
   "outputs": [],
   "source": [
    "name = []\n",
    "for i in range(0,len(y)):\n",
    "    if i % 4 == 0:\n",
    "        name.append(y[i])\n",
    "workEx = []\n",
    "for i in range(0,len(y)):\n",
    "    if i % 4 == 1:\n",
    "        workEx.append(int(y[i]))\n",
    "jobs = []\n",
    "for i in range(0,len(y)):\n",
    "    if i % 4 == 2:\n",
    "        jobs.append(int(y[i]))\n",
    "salPerYear = []\n",
    "for i in range(0,len(y)):\n",
    "    if i % 4 == 3:\n",
    "        salPerYear.append(int(y[i]))"
   ]
  },
  {
   "cell_type": "code",
   "execution_count": 10,
   "metadata": {},
   "outputs": [
    {
     "name": "stdout",
     "output_type": "stream",
     "text": [
      "['Bob', 'Jose', 'Will', 'Mike', 'Smith', 'Edward'] [12, 15, 41, 22, 32, 12] [3, 5, 2, 10, 20, 3] [40, 20, 30, 100, 40, 30]\n"
     ]
    }
   ],
   "source": [
    "print(name,workEx,jobs,salPerYear)"
   ]
  },
  {
   "cell_type": "code",
   "execution_count": 11,
   "metadata": {},
   "outputs": [
    {
     "name": "stdout",
     "output_type": "stream",
     "text": [
      "Bob gets a score of 31\n",
      "Jose gets a score of 10\n",
      "Will gets a score of 9\n",
      "Mike gets a score of 88\n",
      "Smith gets a score of 28\n",
      "Edward gets a score of 21\n",
      "['Bob', 31, 'Jose', 10, 'Will', 9, 'Mike', 88, 'Smith', 28, 'Edward', 21]\n"
     ]
    }
   ],
   "source": [
    "score = []\n",
    "for i in range(0,len(name)):\n",
    "    score.append(jobs[i]*-1)\n",
    "    score[i]+=workEx[i]\n",
    "    score[i]-=salPerYear[i]\n",
    "for i in range(0, len(score)):\n",
    "    score[i]=abs(score[i])\n",
    "    \n",
    "for i in range(0,len(name)):\n",
    "    print(name[i],\"gets a score of\",score[i])\n",
    "\n",
    "\n",
    "scoreName = []\n",
    "\n",
    "for i in range(0,len(name)):\n",
    "    scoreName.append(name[i])\n",
    "    scoreName.append(score[i])\n",
    "print(scoreName)"
   ]
  },
  {
   "cell_type": "code",
   "execution_count": 12,
   "metadata": {},
   "outputs": [
    {
     "name": "stdout",
     "output_type": "stream",
     "text": [
      "Job Applicant 1 is Will they are the best worker you can get\n",
      "Job Applicant 2 is Jose they are the best worker you can get\n",
      "Job Applicant 3 is Edward they are the best worker you can get\n",
      "Job Applicant 4 is Smith they are the best worker you can get\n",
      "Job Applicant 5 is Bob they are the best worker you can get\n",
      "Job Applicant 6 is Mike they are the best worker you can get\n"
     ]
    }
   ],
   "source": [
    "score.sort()\n",
    "for i in range(0, len(score)):\n",
    "    for y in range(0,len(score)):\n",
    "        if int(scoreName[(y*2)+1]) == score[i]:\n",
    "            print(\"Job Applicant\",i+1,\"is\",scoreName[y*2],\"they are the best worker you can get\")"
   ]
  }
 ],
 "metadata": {
  "kernelspec": {
   "display_name": "Python 3",
   "language": "python",
   "name": "python3"
  },
  "language_info": {
   "codemirror_mode": {
    "name": "ipython",
    "version": 3
   },
   "file_extension": ".py",
   "mimetype": "text/x-python",
   "name": "python",
   "nbconvert_exporter": "python",
   "pygments_lexer": "ipython3",
   "version": "3.6.8"
  }
 },
 "nbformat": 4,
 "nbformat_minor": 2
}
