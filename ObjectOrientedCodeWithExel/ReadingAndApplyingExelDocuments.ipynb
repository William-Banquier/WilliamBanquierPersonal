{
 "cells": [
  {
   "cell_type": "code",
   "execution_count": 90,
   "metadata": {},
   "outputs": [],
   "source": [
    "import pandas as pd"
   ]
  },
  {
   "cell_type": "code",
   "execution_count": 91,
   "metadata": {},
   "outputs": [
    {
     "name": "stdout",
     "output_type": "stream",
     "text": [
      "     Name  WorkExperience(Years)  Jobs\n",
      "0     Bob                     12     3\n",
      "1    Jose                     16     5\n",
      "2    Will                     41     2\n",
      "3    Mike                     22    10\n",
      "4   Smith                     32    20\n",
      "5  Edward                     12     3\n"
     ]
    }
   ],
   "source": [
    "df = pd.read_excel (r'ObjectOreientedCode.xlsx') \n",
    "print (df)\n",
    "\n"
   ]
  },
  {
   "cell_type": "code",
   "execution_count": 92,
   "metadata": {},
   "outputs": [
    {
     "name": "stdout",
     "output_type": "stream",
     "text": [
      "RangeIndex(start=0, stop=6, step=1)\n"
     ]
    }
   ],
   "source": [
    "print(df.index)"
   ]
  },
  {
   "cell_type": "code",
   "execution_count": 93,
   "metadata": {},
   "outputs": [
    {
     "name": "stdout",
     "output_type": "stream",
     "text": [
      "Bob\n",
      "Jose\n",
      "Will\n",
      "Mike\n",
      "Smith\n",
      "Edward\n"
     ]
    }
   ],
   "source": [
    "for i in df.index:\n",
    "    print(df['Name'][i])\n"
   ]
  },
  {
   "cell_type": "code",
   "execution_count": 94,
   "metadata": {},
   "outputs": [],
   "source": [
    "listNames = df['Name']\n",
    "listWork = df['WorkExperience(Years)']"
   ]
  },
  {
   "cell_type": "code",
   "execution_count": 95,
   "metadata": {},
   "outputs": [],
   "source": [
    "class Person:\n",
    "    def __init__(self, Name, WorkExperience, Jobs):\n",
    "            self.Name = Name\n",
    "            self.WorkExperience = WorkExperience\n",
    "            self.Jobs = Jobs"
   ]
  },
  {
   "cell_type": "code",
   "execution_count": 96,
   "metadata": {},
   "outputs": [
    {
     "name": "stdout",
     "output_type": "stream",
     "text": [
      "['Bob', 12, 3, 'Jose', 16, 5, 'Will', 41, 2, 'Mike', 22, 10, 'Smith', 32, 20, 'Edward', 12, 3]\n"
     ]
    }
   ],
   "source": [
    "y = []\n",
    "for i in df.index:\n",
    "    i = Person(df['Name'][i],df['WorkExperience(Years)'][i],df['Jobs'][i])\n",
    "    y.append(i.Name)\n",
    "    y.append(i.WorkExperience)\n",
    "    y.append(i.Jobs)\n",
    "print(y)"
   ]
  },
  {
   "cell_type": "code",
   "execution_count": 97,
   "metadata": {
    "scrolled": true
   },
   "outputs": [
    {
     "name": "stdout",
     "output_type": "stream",
     "text": [
      "Bob has worked for 12 years and has had 3 jobs.\n",
      "Jose has worked for 16 years and has had 5 jobs.\n",
      "Will has worked for 41 years and has had 2 jobs.\n",
      "Mike has worked for 22 years and has had 10 jobs.\n",
      "Smith has worked for 32 years and has had 20 jobs.\n",
      "Edward has worked for 12 years and has had 3 jobs.\n"
     ]
    }
   ],
   "source": [
    "for i in range(0,len(y)):\n",
    "    if i % 3== 0:\n",
    "        print(y[i],\"has worked for\",y[i+1],\"years and has had\",y[i+2],\"jobs.\")"
   ]
  },
  {
   "cell_type": "code",
   "execution_count": null,
   "metadata": {},
   "outputs": [],
   "source": []
  }
 ],
 "metadata": {
  "kernelspec": {
   "display_name": "Python 3",
   "language": "python",
   "name": "python3"
  },
  "language_info": {
   "codemirror_mode": {
    "name": "ipython",
    "version": 3
   },
   "file_extension": ".py",
   "mimetype": "text/x-python",
   "name": "python",
   "nbconvert_exporter": "python",
   "pygments_lexer": "ipython3",
   "version": "3.6.8"
  }
 },
 "nbformat": 4,
 "nbformat_minor": 2
}
