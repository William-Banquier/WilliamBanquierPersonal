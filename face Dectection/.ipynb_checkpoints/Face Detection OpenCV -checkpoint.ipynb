{
 "cells": [
  {
   "cell_type": "code",
   "execution_count": 1,
   "metadata": {},
   "outputs": [],
   "source": [
    "import numpy as np\n",
    "import cv2\n",
    "import os\n",
    "#import time"
   ]
  },
  {
   "cell_type": "code",
   "execution_count": 2,
   "metadata": {
    "scrolled": true
   },
   "outputs": [
    {
     "name": "stdout",
     "output_type": "stream",
     "text": [
      "[0]\n"
     ]
    }
   ],
   "source": [
    "index = 0\n",
    "arr = []\n",
    "while True:\n",
    "    cap = cv2.VideoCapture(index)\n",
    "    if not cap.read()[0]:\n",
    "        break\n",
    "    else:\n",
    "        arr.append(index)\n",
    "    cap.release()\n",
    "    index += 1\n",
    "    print(arr)"
   ]
  },
  {
   "cell_type": "code",
   "execution_count": null,
   "metadata": {},
   "outputs": [],
   "source": [
    "\n",
    "detector= cv2.CascadeClassifier('haarcascades/haarcascade_frontalface_default.xml')\n",
    "# smileDetector= cv2.CascadeClassifier('haarcascades/haarcascade_smile.xml')\n",
    "detectorEyes = cv2.CascadeClassifier('haarcascades/haarcascade_eye.xml')\n",
    "cap = cv2.VideoCapture(0)\n",
    "eyeFace = False\n",
    "c = 0\n",
    "\n",
    "while(True):\n",
    "    ret, img = cap.read()\n",
    "    #time.sleep(1)\n",
    "    gray = cv2.cvtColor(img, cv2.COLOR_BGR2GRAY)\n",
    "    faces = detector.detectMultiScale(gray, 1.3, 5)\n",
    "    eyes = detectorEyes.detectMultiScale(gray, 1.3, 5)\n",
    "#     smiles = smileDetector.detectMultiScale(gray,1.3,5)\n",
    "    \n",
    "#     for (x,y,w,h) in eyes:\n",
    "#         cv2.rectangle(img,(x,y),(x+w,y+h),(0,0,0),-1)\n",
    "\n",
    "    for (x,y,w,h) in faces:\n",
    "         cv2.rectangle(img,(x,y),(x+w,y+h),(0,0,0),-1)\n",
    "\n",
    "        \n",
    "\n",
    "\n",
    "    cv2.imshow('face detection -- this is on',img)\n",
    "    if cv2.waitKey(1) & 0xFF == ord('q'):\n",
    "        break\n",
    "    \n",
    "cap.release()\n",
    "cv2.destroyAllWindows()"
   ]
  },
  {
   "cell_type": "code",
   "execution_count": null,
   "metadata": {},
   "outputs": [],
   "source": []
  }
 ],
 "metadata": {
  "kernelspec": {
   "display_name": "Python 3",
   "language": "python",
   "name": "python3"
  },
  "language_info": {
   "codemirror_mode": {
    "name": "ipython",
    "version": 3
   },
   "file_extension": ".py",
   "mimetype": "text/x-python",
   "name": "python",
   "nbconvert_exporter": "python",
   "pygments_lexer": "ipython3",
   "version": "3.6.8"
  }
 },
 "nbformat": 4,
 "nbformat_minor": 2
}
