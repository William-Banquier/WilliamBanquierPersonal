{
 "cells": [
  {
   "cell_type": "code",
   "execution_count": 1,
   "metadata": {},
   "outputs": [],
   "source": [
    "import pandas as pd\n",
    "import matplotlib.pyplot as plt\n",
    "\n",
    "%matplotlib inline"
   ]
  },
  {
   "cell_type": "code",
   "execution_count": 2,
   "metadata": {},
   "outputs": [],
   "source": [
    "train = pd.read_csv('appstoreStuff.csv')"
   ]
  },
  {
   "cell_type": "code",
   "execution_count": 3,
   "metadata": {},
   "outputs": [],
   "source": [
    "train.drop('URL',axis=1,inplace=True)\n",
    "train.drop('ID',axis=1,inplace=True)\n",
    "train.drop('Name',axis=1,inplace=True)\n",
    "train.drop('Subtitle',axis=1,inplace=True)\n",
    "train.drop('IconURL',axis=1,inplace=True)\n",
    "train.drop('Description',axis=1,inplace=True)\n",
    "train.drop('Developer',axis=1,inplace=True)\n",
    "train.drop('AgeRating',axis=1,inplace=True)\n",
    "train.drop('Languages',axis=1,inplace=True)\n",
    "train.drop('In-appPurchases',axis=1,inplace=True)\n",
    "train.drop('Genres',axis=1,inplace=True)\n",
    "train.drop('OriginalReleaseDate',axis=1,inplace=True)\n",
    "train.drop('CurrentVersionReleaseDate',axis=1,inplace=True)\n",
    "train.drop('Size',axis=1,inplace=True)\n",
    "train.drop('UserRatingCount',axis=1,inplace=True)"
   ]
  },
  {
   "cell_type": "code",
   "execution_count": 4,
   "metadata": {},
   "outputs": [],
   "source": [
    "def fillGenre(Genre):\n",
    "    Genre = Genre[0]\n",
    "    if Genre=='Game':\n",
    "        return 0\n",
    "    elif Genre=='Education':\n",
    "        return 1\n",
    "    elif Genre=='Education':\n",
    "        return 2\n",
    "    elif Genre=='Entertainment':\n",
    "        return 3\n",
    "    elif Genre=='Sports':\n",
    "        return 4\n",
    "    elif Genre=='Stickers':\n",
    "        return 5\n",
    "    elif Genre=='Utilities':\n",
    "        return 6\n",
    "    else:\n",
    "        return 7\n",
    "train['PrimaryGenre']=train[['PrimaryGenre']].apply(fillGenre,axis=1)"
   ]
  },
  {
   "cell_type": "code",
   "execution_count": 5,
   "metadata": {},
   "outputs": [],
   "source": [
    "def printNull(varible):\n",
    "    varible = varible[0]\n",
    "    if varible == None:\n",
    "        print(varible)\n",
    "    try:\n",
    "        return int(varible)\n",
    "    except:\n",
    "        return 0\n",
    "    \n",
    "    "
   ]
  },
  {
   "cell_type": "code",
   "execution_count": 6,
   "metadata": {},
   "outputs": [],
   "source": [
    "train['AverageUserRating']=train[['AverageUserRating']].apply(printNull,axis=1)\n",
    "train['Price']=train[['Price']].apply(printNull,axis=1)\n",
    "train['PrimaryGenre']=train[['PrimaryGenre']].apply(printNull,axis=1)"
   ]
  },
  {
   "cell_type": "code",
   "execution_count": 7,
   "metadata": {},
   "outputs": [],
   "source": [
    "from sklearn.model_selection import train_test_split"
   ]
  },
  {
   "cell_type": "code",
   "execution_count": 8,
   "metadata": {},
   "outputs": [],
   "source": [
    "dummieStars = pd.get_dummies(train['AverageUserRating'],drop_first=False)"
   ]
  },
  {
   "cell_type": "code",
   "execution_count": 9,
   "metadata": {},
   "outputs": [],
   "source": [
    "X_train, X_test, y_train, y_test = train_test_split(train.drop('AverageUserRating',axis=1),\n",
    "                                                    train['AverageUserRating']\n",
    "                                                    ,test_size=0.5,\n",
    "                                                    random_state=100)\n",
    "                                                    "
   ]
  },
  {
   "cell_type": "code",
   "execution_count": 10,
   "metadata": {},
   "outputs": [
    {
     "name": "stderr",
     "output_type": "stream",
     "text": [
      "/Library/Frameworks/Python.framework/Versions/3.6/lib/python3.6/site-packages/sklearn/linear_model/logistic.py:432: FutureWarning: Default solver will be changed to 'lbfgs' in 0.22. Specify a solver to silence this warning.\n",
      "  FutureWarning)\n",
      "/Library/Frameworks/Python.framework/Versions/3.6/lib/python3.6/site-packages/sklearn/linear_model/logistic.py:469: FutureWarning: Default multi_class will be changed to 'auto' in 0.22. Specify the multi_class option to silence this warning.\n",
      "  \"this warning.\", FutureWarning)\n"
     ]
    }
   ],
   "source": [
    "from sklearn.linear_model import LogisticRegression\n",
    "logmodel = LogisticRegression()\n",
    "logmodel.fit(X_train,y_train)\n",
    "predictions = logmodel.predict(X_test)\n",
    "#print(logmodel.score(X_train,y_train))"
   ]
  },
  {
   "cell_type": "code",
   "execution_count": 11,
   "metadata": {},
   "outputs": [
    {
     "name": "stdout",
     "output_type": "stream",
     "text": [
      "              precision    recall  f1-score   support\n",
      "\n",
      "           0       0.56      1.00      0.72      4780\n",
      "           1       0.00      0.00      0.00        42\n",
      "           2       0.00      0.00      0.00       246\n",
      "           3       0.00      0.00      0.00       704\n",
      "           4       0.00      0.00      0.00      2248\n",
      "           5       0.00      0.00      0.00       484\n",
      "\n",
      "    accuracy                           0.56      8504\n",
      "   macro avg       0.09      0.17      0.12      8504\n",
      "weighted avg       0.32      0.56      0.40      8504\n",
      "\n"
     ]
    },
    {
     "name": "stderr",
     "output_type": "stream",
     "text": [
      "/Library/Frameworks/Python.framework/Versions/3.6/lib/python3.6/site-packages/sklearn/metrics/classification.py:1437: UndefinedMetricWarning: Precision and F-score are ill-defined and being set to 0.0 in labels with no predicted samples.\n",
      "  'precision', 'predicted', average, warn_for)\n"
     ]
    }
   ],
   "source": [
    "from sklearn.metrics import classification_report\n",
    "print(classification_report(y_test,predictions))"
   ]
  }
 ],
 "metadata": {
  "kernelspec": {
   "display_name": "Python 3",
   "language": "python",
   "name": "python3"
  },
  "language_info": {
   "codemirror_mode": {
    "name": "ipython",
    "version": 3
   },
   "file_extension": ".py",
   "mimetype": "text/x-python",
   "name": "python",
   "nbconvert_exporter": "python",
   "pygments_lexer": "ipython3",
   "version": "3.6.8"
  }
 },
 "nbformat": 4,
 "nbformat_minor": 2
}
