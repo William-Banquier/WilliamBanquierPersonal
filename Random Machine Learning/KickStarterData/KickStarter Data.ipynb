{
 "cells": [
  {
   "cell_type": "code",
   "execution_count": 1,
   "source": [
    "#importing packages\n",
    "\n",
    "import pandas as pd\n",
    "import matplotlib.pyplot as plt\n",
    "\n",
    "%matplotlib inline"
   ],
   "outputs": [],
   "metadata": {}
  },
  {
   "cell_type": "code",
   "execution_count": 2,
   "source": [
    "#reading file\n",
    "\n",
    "train = pd.read_csv('kickstarter-projects/ks-projects-201801.csv')"
   ],
   "outputs": [],
   "metadata": {}
  },
  {
   "cell_type": "code",
   "execution_count": 3,
   "source": [
    "#train.head()"
   ],
   "outputs": [],
   "metadata": {}
  },
  {
   "cell_type": "code",
   "execution_count": 4,
   "source": [
    "train.drop(\"name\",axis=1,inplace=True)\n",
    "train.drop(\"deadline\",axis=1,inplace=True)\n",
    "train.drop(\"launched\",axis=1,inplace=True)"
   ],
   "outputs": [],
   "metadata": {}
  },
  {
   "cell_type": "code",
   "execution_count": 5,
   "source": [
    "#train.groupby('category')['state'].count().sort_values(ascending=False)"
   ],
   "outputs": [],
   "metadata": {}
  },
  {
   "cell_type": "code",
   "execution_count": 6,
   "source": [
    "#Making names to numbers\n",
    "\n",
    "def fillGenre(Genre):\n",
    "    Genre = Genre[0]\n",
    "    if Genre=='Product Design':\n",
    "        return 0\n",
    "    elif Genre=='Documentary':\n",
    "        return 1\n",
    "    elif Genre=='Music':\n",
    "        return 2\n",
    "    elif Genre=='Tabletop Games':\n",
    "        return 3\n",
    "    elif Genre=='Shorts':\n",
    "        return 4\n",
    "    elif Genre=='Video Games':\n",
    "        return 5\n",
    "    elif Genre=='Food':\n",
    "        return 6\n",
    "    else:\n",
    "        return 7\n",
    "train['category']=train[['category']].apply(fillGenre,axis=1)"
   ],
   "outputs": [],
   "metadata": {}
  },
  {
   "cell_type": "code",
   "execution_count": 7,
   "source": [
    "#train.head(4)"
   ],
   "outputs": [],
   "metadata": {}
  },
  {
   "cell_type": "code",
   "execution_count": 8,
   "source": [
    "#train.groupby('main_category')['state'].count().sort_values(ascending=False)"
   ],
   "outputs": [],
   "metadata": {}
  },
  {
   "cell_type": "code",
   "execution_count": 9,
   "source": [
    "#Making names to numbers\n",
    "\n",
    "def fillGenre(Genre):\n",
    "    Genre = Genre[0]\n",
    "    if Genre=='Film & Video':\n",
    "        return 0\n",
    "    elif Genre=='Music':\n",
    "        return 1\n",
    "    elif Genre=='Publishing':\n",
    "        return 2\n",
    "    elif Genre=='Games':\n",
    "        return 3\n",
    "    elif Genre=='Technology':\n",
    "        return 4\n",
    "    elif Genre=='Design':\n",
    "        return 5\n",
    "    elif Genre=='Art':\n",
    "        return 6\n",
    "    else:\n",
    "        return 7\n",
    "train['main_category']=train[['main_category']].apply(fillGenre,axis=1)"
   ],
   "outputs": [],
   "metadata": {}
  },
  {
   "cell_type": "code",
   "execution_count": 10,
   "source": [
    "#train.head(4)"
   ],
   "outputs": [],
   "metadata": {}
  },
  {
   "cell_type": "code",
   "execution_count": 11,
   "source": [
    "#train.groupby('currency')['state'].count().sort_values(ascending=False)"
   ],
   "outputs": [],
   "metadata": {}
  },
  {
   "cell_type": "code",
   "execution_count": 12,
   "source": [
    "#Making names to numbers\n",
    "\n",
    "def fillGenre(Genre):\n",
    "    Genre = Genre[0]\n",
    "    if Genre=='USD':\n",
    "        return 0\n",
    "    elif Genre=='GBP':\n",
    "        return 1\n",
    "    elif Genre=='EUR':\n",
    "        return 2\n",
    "    elif Genre=='CAD':\n",
    "        return 3\n",
    "    elif Genre=='AUD':\n",
    "        return 4\n",
    "    elif Genre=='SEK':\n",
    "        return 5\n",
    "    elif Genre=='MXN':\n",
    "        return 6\n",
    "    else:\n",
    "        return 7\n",
    "train['currency']=train[['currency']].apply(fillGenre,axis=1)"
   ],
   "outputs": [],
   "metadata": {}
  },
  {
   "cell_type": "code",
   "execution_count": 13,
   "source": [
    "# train.groupby('state')['goal'].count().sort_values(ascending=False)"
   ],
   "outputs": [],
   "metadata": {}
  },
  {
   "cell_type": "code",
   "execution_count": 14,
   "source": [
    "#Making names to numbers\n",
    "\n",
    "def fillGenre(Genre):\n",
    "    Genre = Genre[0]\n",
    "    if Genre=='failed':\n",
    "        return 0\n",
    "    elif Genre=='successful':\n",
    "        return 1\n",
    "    elif Genre=='canceled':\n",
    "        return 2\n",
    "    elif Genre=='undefined':\n",
    "        return 3\n",
    "    elif Genre=='live':\n",
    "        return 4\n",
    "    elif Genre=='suspended':\n",
    "        return 5\n",
    "train['state']=train[['state']].apply(fillGenre,axis=1)"
   ],
   "outputs": [],
   "metadata": {}
  },
  {
   "cell_type": "code",
   "execution_count": 15,
   "source": [
    "# train.head(4)"
   ],
   "outputs": [],
   "metadata": {}
  },
  {
   "cell_type": "code",
   "execution_count": 16,
   "source": [
    "# train.groupby('country')['goal'].count().sort_values(ascending=False)"
   ],
   "outputs": [],
   "metadata": {}
  },
  {
   "cell_type": "code",
   "execution_count": 17,
   "source": [
    "#Making names to numbers\n",
    "\n",
    "def fillGenre(Genre):\n",
    "    Genre = Genre[0]\n",
    "    if Genre=='US':\n",
    "        return 0\n",
    "    elif Genre=='GB':\n",
    "        return 1\n",
    "    elif Genre=='CA':\n",
    "        return 2\n",
    "    elif Genre=='AU':\n",
    "        return 3\n",
    "    elif Genre=='DE':\n",
    "        return 4\n",
    "    elif Genre=='N,0\"':\n",
    "        return 5\n",
    "    elif Genre=='FR':\n",
    "        return 6\n",
    "    else:\n",
    "        return 7\n",
    "train['country']=train[['country']].apply(fillGenre,axis=1)"
   ],
   "outputs": [],
   "metadata": {}
  },
  {
   "cell_type": "code",
   "execution_count": 18,
   "source": [
    "train.head()"
   ],
   "outputs": [
    {
     "output_type": "execute_result",
     "data": {
      "text/html": [
       "<div>\n",
       "<style scoped>\n",
       "    .dataframe tbody tr th:only-of-type {\n",
       "        vertical-align: middle;\n",
       "    }\n",
       "\n",
       "    .dataframe tbody tr th {\n",
       "        vertical-align: top;\n",
       "    }\n",
       "\n",
       "    .dataframe thead th {\n",
       "        text-align: right;\n",
       "    }\n",
       "</style>\n",
       "<table border=\"1\" class=\"dataframe\">\n",
       "  <thead>\n",
       "    <tr style=\"text-align: right;\">\n",
       "      <th></th>\n",
       "      <th>ID</th>\n",
       "      <th>category</th>\n",
       "      <th>main_category</th>\n",
       "      <th>currency</th>\n",
       "      <th>goal</th>\n",
       "      <th>pledged</th>\n",
       "      <th>state</th>\n",
       "      <th>backers</th>\n",
       "      <th>country</th>\n",
       "      <th>usd_pledged</th>\n",
       "      <th>usd_pledged_real</th>\n",
       "      <th>usd_goal_real</th>\n",
       "    </tr>\n",
       "  </thead>\n",
       "  <tbody>\n",
       "    <tr>\n",
       "      <th>0</th>\n",
       "      <td>1000002330</td>\n",
       "      <td>7</td>\n",
       "      <td>2</td>\n",
       "      <td>1</td>\n",
       "      <td>1000.0</td>\n",
       "      <td>0.0</td>\n",
       "      <td>0</td>\n",
       "      <td>0</td>\n",
       "      <td>1</td>\n",
       "      <td>0.0</td>\n",
       "      <td>0.0</td>\n",
       "      <td>1533.95</td>\n",
       "    </tr>\n",
       "    <tr>\n",
       "      <th>1</th>\n",
       "      <td>1000003930</td>\n",
       "      <td>7</td>\n",
       "      <td>0</td>\n",
       "      <td>0</td>\n",
       "      <td>30000.0</td>\n",
       "      <td>2421.0</td>\n",
       "      <td>0</td>\n",
       "      <td>15</td>\n",
       "      <td>0</td>\n",
       "      <td>100.0</td>\n",
       "      <td>2421.0</td>\n",
       "      <td>30000.00</td>\n",
       "    </tr>\n",
       "    <tr>\n",
       "      <th>2</th>\n",
       "      <td>1000004038</td>\n",
       "      <td>7</td>\n",
       "      <td>0</td>\n",
       "      <td>0</td>\n",
       "      <td>45000.0</td>\n",
       "      <td>220.0</td>\n",
       "      <td>0</td>\n",
       "      <td>3</td>\n",
       "      <td>0</td>\n",
       "      <td>220.0</td>\n",
       "      <td>220.0</td>\n",
       "      <td>45000.00</td>\n",
       "    </tr>\n",
       "    <tr>\n",
       "      <th>3</th>\n",
       "      <td>1000007540</td>\n",
       "      <td>2</td>\n",
       "      <td>1</td>\n",
       "      <td>0</td>\n",
       "      <td>5000.0</td>\n",
       "      <td>1.0</td>\n",
       "      <td>0</td>\n",
       "      <td>1</td>\n",
       "      <td>0</td>\n",
       "      <td>1.0</td>\n",
       "      <td>1.0</td>\n",
       "      <td>5000.00</td>\n",
       "    </tr>\n",
       "    <tr>\n",
       "      <th>4</th>\n",
       "      <td>1000011046</td>\n",
       "      <td>7</td>\n",
       "      <td>0</td>\n",
       "      <td>0</td>\n",
       "      <td>19500.0</td>\n",
       "      <td>1283.0</td>\n",
       "      <td>2</td>\n",
       "      <td>14</td>\n",
       "      <td>0</td>\n",
       "      <td>1283.0</td>\n",
       "      <td>1283.0</td>\n",
       "      <td>19500.00</td>\n",
       "    </tr>\n",
       "  </tbody>\n",
       "</table>\n",
       "</div>"
      ],
      "text/plain": [
       "           ID  category  main_category  currency     goal  pledged  state  \\\n",
       "0  1000002330         7              2         1   1000.0      0.0      0   \n",
       "1  1000003930         7              0         0  30000.0   2421.0      0   \n",
       "2  1000004038         7              0         0  45000.0    220.0      0   \n",
       "3  1000007540         2              1         0   5000.0      1.0      0   \n",
       "4  1000011046         7              0         0  19500.0   1283.0      2   \n",
       "\n",
       "   backers  country  usd_pledged  usd_pledged_real  usd_goal_real  \n",
       "0        0        1          0.0               0.0        1533.95  \n",
       "1       15        0        100.0            2421.0       30000.00  \n",
       "2        3        0        220.0             220.0       45000.00  \n",
       "3        1        0          1.0               1.0        5000.00  \n",
       "4       14        0       1283.0            1283.0       19500.00  "
      ]
     },
     "metadata": {},
     "execution_count": 18
    }
   ],
   "metadata": {}
  },
  {
   "cell_type": "code",
   "execution_count": 19,
   "source": [
    "#changing floats to ints\n",
    "\n",
    "def printNull(varible):\n",
    "    varible = float(varible[0])\n",
    "    try:\n",
    "        return int(varible)\n",
    "    except:\n",
    "        return 0"
   ],
   "outputs": [],
   "metadata": {}
  },
  {
   "cell_type": "code",
   "execution_count": 20,
   "source": [
    "train['usd_pledged']=train[['usd_pledged']].apply(printNull,axis=1)\n",
    "train['usd_pledged_real']=train[['usd_pledged_real']].apply(printNull,axis=1)\n",
    "train['usd_goal_real']=train[['usd_goal_real']].apply(printNull,axis=1)\n",
    "train['goal']=train[['goal']].apply(printNull,axis=1)\n",
    "train['pledged']=train[['pledged']].apply(printNull,axis=1)\n",
    "\n",
    "\n",
    "print(type(train.iloc[12,3]))"
   ],
   "outputs": [
    {
     "output_type": "stream",
     "name": "stdout",
     "text": [
      "<class 'numpy.int64'>\n"
     ]
    }
   ],
   "metadata": {}
  },
  {
   "cell_type": "code",
   "execution_count": 21,
   "source": [
    "# train.head()"
   ],
   "outputs": [],
   "metadata": {}
  },
  {
   "cell_type": "code",
   "execution_count": 22,
   "source": [
    "#importing train_test_split\n",
    "\n",
    "from sklearn.model_selection import train_test_split"
   ],
   "outputs": [],
   "metadata": {}
  },
  {
   "cell_type": "code",
   "execution_count": 23,
   "source": [
    "#getting training data\n",
    "\n",
    "dummieStars = pd.get_dummies(train['state'],drop_first=False)"
   ],
   "outputs": [],
   "metadata": {}
  },
  {
   "cell_type": "code",
   "execution_count": 24,
   "source": [
    "#train_test_split\n",
    "\n",
    "X_train, X_test, y_train, y_test = train_test_split(train.drop('state',axis=1),\n",
    "                                                    train['state']\n",
    "                                                    ,test_size=0.5,\n",
    "                                                    random_state=100)\n",
    "                                                    "
   ],
   "outputs": [],
   "metadata": {}
  },
  {
   "cell_type": "code",
   "execution_count": 25,
   "source": [
    "#training\n",
    "\n",
    "from sklearn.linear_model import LogisticRegression\n",
    "logmodel = LogisticRegression()\n",
    "logmodel.fit(X_train,y_train)\n",
    "predictions = logmodel.predict(X_test)\n",
    "#print(logmodel.score(X_train,y_train))"
   ],
   "outputs": [],
   "metadata": {}
  },
  {
   "cell_type": "code",
   "execution_count": 26,
   "source": [
    "#showing classification_report\n",
    "\n",
    "from sklearn.metrics import classification_report\n",
    "print(classification_report(y_test,predictions))"
   ],
   "outputs": [
    {
     "output_type": "stream",
     "name": "stdout",
     "text": [
      "              precision    recall  f1-score   support\n",
      "\n",
      "           0       0.53      1.00      0.69     98675\n",
      "           1       0.98      0.02      0.05     67063\n",
      "           2       0.00      0.00      0.00     19450\n",
      "           3       0.00      0.00      0.00      1770\n",
      "           4       0.00      0.00      0.00      1411\n",
      "           5       0.00      0.00      0.00       962\n",
      "\n",
      "    accuracy                           0.53    189331\n",
      "   macro avg       0.25      0.17      0.12    189331\n",
      "weighted avg       0.62      0.53      0.38    189331\n",
      "\n"
     ]
    },
    {
     "output_type": "stream",
     "name": "stderr",
     "text": [
      "/opt/anaconda3/lib/python3.8/site-packages/sklearn/metrics/_classification.py:1221: UndefinedMetricWarning: Precision and F-score are ill-defined and being set to 0.0 in labels with no predicted samples. Use `zero_division` parameter to control this behavior.\n",
      "  _warn_prf(average, modifier, msg_start, len(result))\n"
     ]
    }
   ],
   "metadata": {}
  },
  {
   "cell_type": "code",
   "execution_count": null,
   "source": [],
   "outputs": [],
   "metadata": {}
  }
 ],
 "metadata": {
  "kernelspec": {
   "name": "python3",
   "display_name": "Python 3.8.3 64-bit ('base': conda)"
  },
  "language_info": {
   "codemirror_mode": {
    "name": "ipython",
    "version": 3
   },
   "file_extension": ".py",
   "mimetype": "text/x-python",
   "name": "python",
   "nbconvert_exporter": "python",
   "pygments_lexer": "ipython3",
   "version": "3.8.3"
  },
  "interpreter": {
   "hash": "dca0ade3e726a953b501b15e8e990130d2b7799f14cfd9f4271676035ebe5511"
  }
 },
 "nbformat": 4,
 "nbformat_minor": 2
}