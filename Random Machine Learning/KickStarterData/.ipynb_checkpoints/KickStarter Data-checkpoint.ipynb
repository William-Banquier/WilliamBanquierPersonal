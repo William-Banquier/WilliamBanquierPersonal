{
 "cells": [
  {
   "cell_type": "code",
   "execution_count": 1,
   "metadata": {},
   "outputs": [],
   "source": [
    "#importing packages\n",
    "\n",
    "import pandas as pd\n",
    "import matplotlib.pyplot as plt\n",
    "\n",
    "%matplotlib inline"
   ]
  },
  {
   "cell_type": "code",
   "execution_count": 2,
   "metadata": {},
   "outputs": [],
   "source": [
    "#reading file\n",
    "\n",
    "train = pd.read_csv('kickstarter-projects/ks-projects-201801.csv')"
   ]
  },
  {
   "cell_type": "code",
   "execution_count": 3,
   "metadata": {},
   "outputs": [],
   "source": [
    "#train.head()"
   ]
  },
  {
   "cell_type": "code",
   "execution_count": 4,
   "metadata": {},
   "outputs": [],
   "source": [
    "train.drop(\"name\",axis=1,inplace=True)\n",
    "train.drop(\"deadline\",axis=1,inplace=True)\n",
    "train.drop(\"launched\",axis=1,inplace=True)"
   ]
  },
  {
   "cell_type": "code",
   "execution_count": 5,
   "metadata": {},
   "outputs": [],
   "source": [
    "#train.groupby('category')['state'].count().sort_values(ascending=False)"
   ]
  },
  {
   "cell_type": "code",
   "execution_count": 6,
   "metadata": {},
   "outputs": [],
   "source": [
    "#Making names to numbers\n",
    "\n",
    "def fillGenre(Genre):\n",
    "    Genre = Genre[0]\n",
    "    if Genre=='Product Design':\n",
    "        return 0\n",
    "    elif Genre=='Documentary':\n",
    "        return 1\n",
    "    elif Genre=='Music':\n",
    "        return 2\n",
    "    elif Genre=='Tabletop Games':\n",
    "        return 3\n",
    "    elif Genre=='Shorts':\n",
    "        return 4\n",
    "    elif Genre=='Video Games':\n",
    "        return 5\n",
    "    elif Genre=='Food':\n",
    "        return 6\n",
    "    else:\n",
    "        return 7\n",
    "train['category']=train[['category']].apply(fillGenre,axis=1)"
   ]
  },
  {
   "cell_type": "code",
   "execution_count": 7,
   "metadata": {},
   "outputs": [],
   "source": [
    "#train.head(4)"
   ]
  },
  {
   "cell_type": "code",
   "execution_count": 8,
   "metadata": {},
   "outputs": [],
   "source": [
    "#train.groupby('main_category')['state'].count().sort_values(ascending=False)"
   ]
  },
  {
   "cell_type": "code",
   "execution_count": 9,
   "metadata": {},
   "outputs": [],
   "source": [
    "#Making names to numbers\n",
    "\n",
    "def fillGenre(Genre):\n",
    "    Genre = Genre[0]\n",
    "    if Genre=='Film & Video':\n",
    "        return 0\n",
    "    elif Genre=='Music':\n",
    "        return 1\n",
    "    elif Genre=='Publishing':\n",
    "        return 2\n",
    "    elif Genre=='Games':\n",
    "        return 3\n",
    "    elif Genre=='Technology':\n",
    "        return 4\n",
    "    elif Genre=='Design':\n",
    "        return 5\n",
    "    elif Genre=='Art':\n",
    "        return 6\n",
    "    else:\n",
    "        return 7\n",
    "train['main_category']=train[['main_category']].apply(fillGenre,axis=1)"
   ]
  },
  {
   "cell_type": "code",
   "execution_count": 10,
   "metadata": {},
   "outputs": [],
   "source": [
    "#train.head(4)"
   ]
  },
  {
   "cell_type": "code",
   "execution_count": 11,
   "metadata": {},
   "outputs": [],
   "source": [
    "#train.groupby('currency')['state'].count().sort_values(ascending=False)"
   ]
  },
  {
   "cell_type": "code",
   "execution_count": 12,
   "metadata": {},
   "outputs": [],
   "source": [
    "#Making names to numbers\n",
    "\n",
    "def fillGenre(Genre):\n",
    "    Genre = Genre[0]\n",
    "    if Genre=='USD':\n",
    "        return 0\n",
    "    elif Genre=='GBP':\n",
    "        return 1\n",
    "    elif Genre=='EUR':\n",
    "        return 2\n",
    "    elif Genre=='CAD':\n",
    "        return 3\n",
    "    elif Genre=='AUD':\n",
    "        return 4\n",
    "    elif Genre=='SEK':\n",
    "        return 5\n",
    "    elif Genre=='MXN':\n",
    "        return 6\n",
    "    else:\n",
    "        return 7\n",
    "train['currency']=train[['currency']].apply(fillGenre,axis=1)"
   ]
  },
  {
   "cell_type": "code",
   "execution_count": 13,
   "metadata": {},
   "outputs": [],
   "source": [
    "# train.groupby('state')['goal'].count().sort_values(ascending=False)"
   ]
  },
  {
   "cell_type": "code",
   "execution_count": 14,
   "metadata": {},
   "outputs": [],
   "source": [
    "#Making names to numbers\n",
    "\n",
    "def fillGenre(Genre):\n",
    "    Genre = Genre[0]\n",
    "    if Genre=='failed':\n",
    "        return 0\n",
    "    elif Genre=='successful':\n",
    "        return 1\n",
    "    elif Genre=='canceled':\n",
    "        return 2\n",
    "    elif Genre=='undefined':\n",
    "        return 3\n",
    "    elif Genre=='live':\n",
    "        return 4\n",
    "    elif Genre=='suspended':\n",
    "        return 5\n",
    "train['state']=train[['state']].apply(fillGenre,axis=1)"
   ]
  },
  {
   "cell_type": "code",
   "execution_count": 15,
   "metadata": {},
   "outputs": [],
   "source": [
    "# train.head(4)"
   ]
  },
  {
   "cell_type": "code",
   "execution_count": 16,
   "metadata": {},
   "outputs": [],
   "source": [
    "# train.groupby('country')['goal'].count().sort_values(ascending=False)"
   ]
  },
  {
   "cell_type": "code",
   "execution_count": 17,
   "metadata": {},
   "outputs": [],
   "source": [
    "#Making names to numbers\n",
    "\n",
    "def fillGenre(Genre):\n",
    "    Genre = Genre[0]\n",
    "    if Genre=='US':\n",
    "        return 0\n",
    "    elif Genre=='GB':\n",
    "        return 1\n",
    "    elif Genre=='CA':\n",
    "        return 2\n",
    "    elif Genre=='AU':\n",
    "        return 3\n",
    "    elif Genre=='DE':\n",
    "        return 4\n",
    "    elif Genre=='N,0\"':\n",
    "        return 5\n",
    "    elif Genre=='FR':\n",
    "        return 6\n",
    "    else:\n",
    "        return 7\n",
    "train['country']=train[['country']].apply(fillGenre,axis=1)"
   ]
  },
  {
   "cell_type": "code",
   "execution_count": 18,
   "metadata": {},
   "outputs": [],
   "source": [
    "# train.head()"
   ]
  },
  {
   "cell_type": "code",
   "execution_count": 19,
   "metadata": {},
   "outputs": [],
   "source": [
    "#changing floats to ints\n",
    "\n",
    "def printNull(varible):\n",
    "    varible = float(varible[0])\n",
    "    try:\n",
    "        return int(varible)\n",
    "    except:\n",
    "        return 0"
   ]
  },
  {
   "cell_type": "code",
   "execution_count": 20,
   "metadata": {},
   "outputs": [
    {
     "name": "stdout",
     "output_type": "stream",
     "text": [
      "<class 'numpy.int64'>\n"
     ]
    }
   ],
   "source": [
    "train['usd_pledged']=train[['usd_pledged']].apply(printNull,axis=1)\n",
    "train['usd_pledged_real']=train[['usd_pledged_real']].apply(printNull,axis=1)\n",
    "train['usd_goal_real']=train[['usd_goal_real']].apply(printNull,axis=1)\n",
    "train['goal']=train[['goal']].apply(printNull,axis=1)\n",
    "train['pledged']=train[['pledged']].apply(printNull,axis=1)\n",
    "\n",
    "\n",
    "print(type(train.iloc[12,3]))"
   ]
  },
  {
   "cell_type": "code",
   "execution_count": 21,
   "metadata": {},
   "outputs": [],
   "source": [
    "# train.head()"
   ]
  },
  {
   "cell_type": "code",
   "execution_count": 22,
   "metadata": {},
   "outputs": [],
   "source": [
    "#importing train_test_split\n",
    "\n",
    "from sklearn.model_selection import train_test_split"
   ]
  },
  {
   "cell_type": "code",
   "execution_count": 23,
   "metadata": {},
   "outputs": [],
   "source": [
    "#getting training data\n",
    "\n",
    "dummieStars = pd.get_dummies(train['state'],drop_first=False)"
   ]
  },
  {
   "cell_type": "code",
   "execution_count": 24,
   "metadata": {},
   "outputs": [],
   "source": [
    "#train_test_split\n",
    "\n",
    "X_train, X_test, y_train, y_test = train_test_split(train.drop('state',axis=1),\n",
    "                                                    train['state']\n",
    "                                                    ,test_size=0.5,\n",
    "                                                    random_state=100)\n",
    "                                                    "
   ]
  },
  {
   "cell_type": "code",
   "execution_count": 25,
   "metadata": {},
   "outputs": [
    {
     "name": "stderr",
     "output_type": "stream",
     "text": [
      "/Library/Frameworks/Python.framework/Versions/3.6/lib/python3.6/site-packages/sklearn/linear_model/logistic.py:432: FutureWarning: Default solver will be changed to 'lbfgs' in 0.22. Specify a solver to silence this warning.\n",
      "  FutureWarning)\n",
      "/Library/Frameworks/Python.framework/Versions/3.6/lib/python3.6/site-packages/sklearn/linear_model/logistic.py:469: FutureWarning: Default multi_class will be changed to 'auto' in 0.22. Specify the multi_class option to silence this warning.\n",
      "  \"this warning.\", FutureWarning)\n"
     ]
    }
   ],
   "source": [
    "#training\n",
    "\n",
    "from sklearn.linear_model import LogisticRegression\n",
    "logmodel = LogisticRegression()\n",
    "logmodel.fit(X_train,y_train)\n",
    "predictions = logmodel.predict(X_test)\n",
    "#print(logmodel.score(X_train,y_train))"
   ]
  },
  {
   "cell_type": "code",
   "execution_count": 26,
   "metadata": {},
   "outputs": [
    {
     "name": "stdout",
     "output_type": "stream",
     "text": [
      "              precision    recall  f1-score   support\n",
      "\n",
      "           0       0.60      0.97      0.74     98675\n",
      "           1       0.87      0.38      0.53     67063\n",
      "           2       0.21      0.01      0.02     19450\n",
      "           3       0.00      0.00      0.00      1770\n",
      "           4       0.00      0.00      0.00      1411\n",
      "           5       0.00      0.00      0.00       962\n",
      "\n",
      "    accuracy                           0.64    189331\n",
      "   macro avg       0.28      0.23      0.21    189331\n",
      "weighted avg       0.64      0.64      0.57    189331\n",
      "\n"
     ]
    },
    {
     "name": "stderr",
     "output_type": "stream",
     "text": [
      "/Library/Frameworks/Python.framework/Versions/3.6/lib/python3.6/site-packages/sklearn/metrics/classification.py:1437: UndefinedMetricWarning: Precision and F-score are ill-defined and being set to 0.0 in labels with no predicted samples.\n",
      "  'precision', 'predicted', average, warn_for)\n"
     ]
    }
   ],
   "source": [
    "#showing classification_report\n",
    "\n",
    "from sklearn.metrics import classification_report\n",
    "print(classification_report(y_test,predictions))"
   ]
  },
  {
   "cell_type": "code",
   "execution_count": null,
   "metadata": {},
   "outputs": [],
   "source": []
  }
 ],
 "metadata": {
  "kernelspec": {
   "display_name": "Python 3",
   "language": "python",
   "name": "python3"
  },
  "language_info": {
   "codemirror_mode": {
    "name": "ipython",
    "version": 3
   },
   "file_extension": ".py",
   "mimetype": "text/x-python",
   "name": "python",
   "nbconvert_exporter": "python",
   "pygments_lexer": "ipython3",
   "version": "3.6.8"
  }
 },
 "nbformat": 4,
 "nbformat_minor": 2
}
